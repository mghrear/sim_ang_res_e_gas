{
 "cells": [
  {
   "cell_type": "code",
   "execution_count": 1,
   "id": "caefcc0e",
   "metadata": {},
   "outputs": [
    {
     "name": "stdout",
     "output_type": "stream",
     "text": [
      "Welcome to JupyROOT 6.18/00\n"
     ]
    }
   ],
   "source": [
    "import sys\n",
    "sys.path.append('../')\n",
    "\n",
    "import matplotlib.pyplot as plt\n",
    "from scipy.optimize import curve_fit\n",
    "import numpy as np\n",
    "import pandas as pd\n",
    "from math import sqrt, fabs, log\n",
    "import pandas as pd\n",
    "import SimTools\n",
    "\n"
   ]
  },
  {
   "cell_type": "code",
   "execution_count": 2,
   "id": "05605abc",
   "metadata": {},
   "outputs": [
    {
     "data": {
      "text/html": [
       "<div>\n",
       "<style scoped>\n",
       "    .dataframe tbody tr th:only-of-type {\n",
       "        vertical-align: middle;\n",
       "    }\n",
       "\n",
       "    .dataframe tbody tr th {\n",
       "        vertical-align: top;\n",
       "    }\n",
       "\n",
       "    .dataframe thead th {\n",
       "        text-align: right;\n",
       "    }\n",
       "</style>\n",
       "<table border=\"1\" class=\"dataframe\">\n",
       "  <thead>\n",
       "    <tr style=\"text-align: right;\">\n",
       "      <th></th>\n",
       "      <th>gas</th>\n",
       "      <th>energy</th>\n",
       "      <th>fit_length</th>\n",
       "      <th>ang_dist</th>\n",
       "      <th>sigma</th>\n",
       "      <th>sigma_err</th>\n",
       "    </tr>\n",
       "  </thead>\n",
       "  <tbody>\n",
       "    <tr>\n",
       "      <th>0</th>\n",
       "      <td>cf4</td>\n",
       "      <td>200</td>\n",
       "      <td>0.5</td>\n",
       "      <td>[0.19745657510837264, -0.32102103492227574, 0....</td>\n",
       "      <td>9.137771</td>\n",
       "      <td>0.073639</td>\n",
       "    </tr>\n",
       "    <tr>\n",
       "      <th>1</th>\n",
       "      <td>cf4</td>\n",
       "      <td>200</td>\n",
       "      <td>1.0</td>\n",
       "      <td>[0.3852299696498778, -0.3025206673851232, 0.42...</td>\n",
       "      <td>13.686588</td>\n",
       "      <td>0.109659</td>\n",
       "    </tr>\n",
       "    <tr>\n",
       "      <th>2</th>\n",
       "      <td>cf4</td>\n",
       "      <td>300</td>\n",
       "      <td>0.5</td>\n",
       "      <td>[0.22638431897651873, -0.00015887808223294644,...</td>\n",
       "      <td>6.392045</td>\n",
       "      <td>0.051391</td>\n",
       "    </tr>\n",
       "    <tr>\n",
       "      <th>3</th>\n",
       "      <td>cf4</td>\n",
       "      <td>300</td>\n",
       "      <td>1.0</td>\n",
       "      <td>[0.3537478147723615, 0.23375465215118296, 0.00...</td>\n",
       "      <td>9.560468</td>\n",
       "      <td>0.075920</td>\n",
       "    </tr>\n",
       "    <tr>\n",
       "      <th>4</th>\n",
       "      <td>cf4</td>\n",
       "      <td>300</td>\n",
       "      <td>2.0</td>\n",
       "      <td>[0.34439899830572857, 0.34681683747590825, -0....</td>\n",
       "      <td>14.488935</td>\n",
       "      <td>0.115898</td>\n",
       "    </tr>\n",
       "  </tbody>\n",
       "</table>\n",
       "</div>"
      ],
      "text/plain": [
       "   gas energy  fit_length                                           ang_dist  \\\n",
       "0  cf4    200         0.5  [0.19745657510837264, -0.32102103492227574, 0....   \n",
       "1  cf4    200         1.0  [0.3852299696498778, -0.3025206673851232, 0.42...   \n",
       "2  cf4    300         0.5  [0.22638431897651873, -0.00015887808223294644,...   \n",
       "3  cf4    300         1.0  [0.3537478147723615, 0.23375465215118296, 0.00...   \n",
       "4  cf4    300         2.0  [0.34439899830572857, 0.34681683747590825, -0....   \n",
       "\n",
       "       sigma  sigma_err  \n",
       "0   9.137771   0.073639  \n",
       "1  13.686588   0.109659  \n",
       "2   6.392045   0.051391  \n",
       "3   9.560468   0.075920  \n",
       "4  14.488935   0.115898  "
      ]
     },
     "execution_count": 2,
     "metadata": {},
     "output_type": "execute_result"
    }
   ],
   "source": [
    "# dataframe containg all data\n",
    "df = pd.read_pickle(\"./MS_fitting_data.pk\")\n",
    "\n",
    "# dataframe for fitting data\n",
    "# here we impose sigma < 15 deg\n",
    "df_fit = df.loc[df.sigma < 15.0].reset_index(drop=True)\n",
    "df_fit.head()"
   ]
  },
  {
   "cell_type": "code",
   "execution_count": 3,
   "id": "9621b026",
   "metadata": {},
   "outputs": [],
   "source": [
    "# Collect info for fitting MS models\n",
    "E = []\n",
    "x = []\n",
    "X_o = []\n",
    "Y = []\n",
    "err = []\n",
    "\n",
    "for index, row in df_fit.iterrows():\n",
    "\n",
    "    E += [ (1.0*row.energy )/1000.0 ]   # convert energy to MeV\n",
    "    x += [row.fit_length/100.0]         # convert fit length to m\n",
    "    X_o += [SimTools.Rad_Lengths[row.gas]]\n",
    "    Y += [row.sigma]\n",
    "    err += [row.sigma_err]\n",
    "\n"
   ]
  },
  {
   "cell_type": "code",
   "execution_count": 4,
   "id": "c864add5",
   "metadata": {},
   "outputs": [
    {
     "name": "stdout",
     "output_type": "stream",
     "text": [
      "Highland fit:\n",
      "S_2 =  7.570477850506444 +/- 0.06730158171501456\n",
      "eps =  -0.07843846922226548 +/- 0.0016297501269118195\n",
      "Rossi fit:\n",
      "S_2 =  13.179993284537826 +/- 0.0076338903035232525\n"
     ]
    }
   ],
   "source": [
    "# Fit the Highland formula\n",
    "popt_Hfit, pcov_Hfit = curve_fit(SimTools.highland_fit , (E,x,X_o), Y, sigma=err, absolute_sigma=True)\n",
    "perr_Hfit = np.sqrt(np.diag(pcov_Hfit))\n",
    "\n",
    "print(\"Highland fit:\")\n",
    "print(\"S_2 = \", popt_Hfit[0], \"+/-\", perr_Hfit[0])\n",
    "print(\"eps = \", popt_Hfit[1], \"+/-\", perr_Hfit[1])\n",
    "\n",
    "\n",
    "# Fit Rossi formula\n",
    "popt_Rfit, pcov_Rfit = curve_fit(SimTools.rossi_fit, (E,x,X_o), Y, sigma=err, absolute_sigma=True)\n",
    "perr_Rfit = np.sqrt(np.diag(pcov_Rfit))\n",
    "\n",
    "print(\"Rossi fit:\")\n",
    "print(\"S_2 = \", popt_Rfit[0], \"+/-\", perr_Rfit[0])\n"
   ]
  },
  {
   "cell_type": "code",
   "execution_count": 5,
   "id": "b2da5782",
   "metadata": {},
   "outputs": [
    {
     "data": {
      "image/png": "[encoded data removed]",
      "text/plain": [
       "<Figure size 432x288 with 1 Axes>"
      ]
     },
     "metadata": {
      "needs_background": "light"
     },
     "output_type": "display_data"
    }
   ],
   "source": [
    "# Plot an example of the fits and original formulas\n",
    "select_gas = \"cf4\"\n",
    "fit_lenght = 1.0 \n",
    "\n",
    "df_plot = df_fit.loc[ (df_fit.gas == select_gas) &  (df_fit.fit_length == fit_lenght)]\n",
    "\n",
    "\n",
    "\n",
    "\n",
    "energy = df_plot[\"energy\"]/1000.0\n",
    "fit_len = fit_lenght/100.0\n",
    "rad_l = SimTools.Rad_Lengths[select_gas]\n",
    "\n",
    "plt.errorbar(energy, df_plot[\"sigma\"], yerr=df_plot[\"sigma_err\"], fmt='o',  label='Degrad Simulations')\n",
    "\n",
    "\n",
    "Es = np.arange(min(energy),max(energy), (max(energy)-min(energy))/100)\n",
    "\n",
    "Eq1 = [ SimTools.rossi_fit( (E, fit_len, rad_l) , 14.849 ) for E in Es] \n",
    "Eq3 = [ SimTools.highland_fit( (E, fit_len, rad_l) , 13.6, 0.038 ) for E in Es]\n",
    "fit1 = [SimTools.highland_fit( (E, fit_len, rad_l) , popt_Hfit[0], popt_Hfit[1] ) for E in Es]\n",
    "fit2 = [ SimTools.rossi_fit( (E, fit_len, rad_l) , popt_Rfit[0] ) for E in Es] \n",
    "\n",
    "\n",
    "plt.plot(Es, Eq1, 'r-', label='Rossi and Greisen (Eq. 1)')\n",
    "plt.plot(Es, Eq3, 'g:', label='Lynch and Dahl (Eq. 3)')\n",
    "plt.plot(Es, fit1, 'k--', label='Fit I')\n",
    "plt.plot(Es, fit2, 'c-.', label='Fit II')\n",
    "\n",
    "\n",
    "plt.legend(fontsize=14)\n",
    "plt.xlabel(\"Energy [MeV]\",fontsize=14)\n",
    "plt.ylabel(\"$\\\\sigma_\\\\psi^{\\\\rm plane}$ [Deg]\",fontsize=14)\n",
    "plt.yticks(fontsize = 14)\n",
    "plt.xticks(fontsize = 14)\n",
    "plt.savefig(\"../figures/fit_models.pdf\",bbox_inches='tight')\n",
    "\n",
    "\n"
   ]
  },
  {
   "cell_type": "code",
   "execution_count": 6,
   "id": "212d12c8",
   "metadata": {},
   "outputs": [
    {
     "name": "stdout",
     "output_type": "stream",
     "text": [
      "Standard devation in S2:  1.5931048725151404\n"
     ]
    }
   ],
   "source": [
    "# Estimate uncertainty on Rossi fit paramters by looking at the standard deviation of the fit result by fitting to each gas individually\n",
    "\n",
    "S2_vals = []\n",
    "\n",
    "for gas in df_fit[\"gas\"].unique():\n",
    "\n",
    "    df_gas = df_fit.loc[ df_fit[\"gas\"] == gas].reset_index(drop=True)\n",
    "\n",
    "    # Collect info for fitting MS models\n",
    "    E = []\n",
    "    x = []\n",
    "    X_o = []\n",
    "    Y = []\n",
    "    err = []\n",
    "\n",
    "    for index, row in df_gas.iterrows():\n",
    "\n",
    "        E += [ (1.0*row.energy )/1000.0 ]   # convert energy to MeV\n",
    "        x += [row.fit_length/100.0]         # convert fit length to m\n",
    "        X_o += [SimTools.Rad_Lengths[row.gas]]\n",
    "        Y += [row.sigma]\n",
    "        err += [row.sigma_err]\n",
    "\n",
    "    # Fit Rossi formula\n",
    "    popt, pcov = curve_fit(SimTools.rossi_fit, (E,x,X_o), Y, sigma=err, absolute_sigma=True)\n",
    "    perr = np.sqrt(np.diag(pcov))\n",
    "\n",
    "    S2_vals += [popt[0]]\n",
    "\n",
    "S2_std = np.std(S2_vals)\n",
    "\n",
    "print(\"Standard devation in S2: \", S2_std)"
   ]
  },
  {
   "cell_type": "code",
   "execution_count": 7,
   "id": "63fca24f",
   "metadata": {},
   "outputs": [
    {
     "data": {
      "text/html": [
       "<div>\n",
       "<style scoped>\n",
       "    .dataframe tbody tr th:only-of-type {\n",
       "        vertical-align: middle;\n",
       "    }\n",
       "\n",
       "    .dataframe tbody tr th {\n",
       "        vertical-align: top;\n",
       "    }\n",
       "\n",
       "    .dataframe thead th {\n",
       "        text-align: right;\n",
       "    }\n",
       "</style>\n",
       "<table border=\"1\" class=\"dataframe\">\n",
       "  <thead>\n",
       "    <tr style=\"text-align: right;\">\n",
       "      <th></th>\n",
       "      <th>Name</th>\n",
       "      <th>Value</th>\n",
       "    </tr>\n",
       "  </thead>\n",
       "  <tbody>\n",
       "    <tr>\n",
       "      <th>0</th>\n",
       "      <td>Highland_S2</td>\n",
       "      <td>7.570478</td>\n",
       "    </tr>\n",
       "    <tr>\n",
       "      <th>1</th>\n",
       "      <td>Highland_S2_err</td>\n",
       "      <td>0.067302</td>\n",
       "    </tr>\n",
       "    <tr>\n",
       "      <th>2</th>\n",
       "      <td>Highland_eps</td>\n",
       "      <td>-0.078438</td>\n",
       "    </tr>\n",
       "    <tr>\n",
       "      <th>3</th>\n",
       "      <td>Highland_eps_err</td>\n",
       "      <td>0.001630</td>\n",
       "    </tr>\n",
       "    <tr>\n",
       "      <th>4</th>\n",
       "      <td>Rossi_S2</td>\n",
       "      <td>13.179993</td>\n",
       "    </tr>\n",
       "    <tr>\n",
       "      <th>5</th>\n",
       "      <td>Rossi_S2_err</td>\n",
       "      <td>0.007634</td>\n",
       "    </tr>\n",
       "    <tr>\n",
       "      <th>6</th>\n",
       "      <td>Rossi_S2_std</td>\n",
       "      <td>1.593105</td>\n",
       "    </tr>\n",
       "  </tbody>\n",
       "</table>\n",
       "</div>"
      ],
      "text/plain": [
       "               Name      Value\n",
       "0       Highland_S2   7.570478\n",
       "1   Highland_S2_err   0.067302\n",
       "2      Highland_eps  -0.078438\n",
       "3  Highland_eps_err   0.001630\n",
       "4          Rossi_S2  13.179993\n",
       "5      Rossi_S2_err   0.007634\n",
       "6      Rossi_S2_std   1.593105"
      ]
     },
     "execution_count": 7,
     "metadata": {},
     "output_type": "execute_result"
    }
   ],
   "source": [
    "# Save all data\n",
    "\n",
    "# initialize list of lists\n",
    "data = [['Highland_S2', popt_Hfit[0]], ['Highland_S2_err', perr_Hfit[0]], ['Highland_eps', popt_Hfit[1]], ['Highland_eps_err',perr_Hfit[1]], ['Rossi_S2', popt_Rfit[0]], ['Rossi_S2_err', perr_Rfit[0]], ['Rossi_S2_std', S2_std] ]\n",
    " \n",
    "# Create the pandas DataFrame\n",
    "df_save = pd.DataFrame(data, columns=['Name', 'Value'])\n",
    "\n",
    "\n",
    "df_save.to_pickle(\"./MS_fitting_results.pk\")\n",
    "\n",
    "df_save "
   ]
  },
  {
   "cell_type": "code",
   "execution_count": null,
   "id": "86779eec",
   "metadata": {},
   "outputs": [],
   "source": []
  }
 ],
 "metadata": {
  "kernelspec": {
   "display_name": "Python 3",
   "language": "python",
   "name": "python3"
  },
  "language_info": {
   "codemirror_mode": {
    "name": "ipython",
    "version": 3
   },
   "file_extension": ".py",
   "mimetype": "text/x-python",
   "name": "python",
   "nbconvert_exporter": "python",
   "pygments_lexer": "ipython3",
   "version": "3.7.3"
  }
 },
 "nbformat": 4,
 "nbformat_minor": 5
}
