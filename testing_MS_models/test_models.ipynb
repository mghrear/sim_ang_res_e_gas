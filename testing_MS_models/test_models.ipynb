{
 "cells": [
  {
   "cell_type": "code",
   "execution_count": 1,
   "id": "caefcc0e",
   "metadata": {},
   "outputs": [
    {
     "name": "stdout",
     "output_type": "stream",
     "text": [
      "Welcome to JupyROOT 6.18/00\n"
     ]
    }
   ],
   "source": [
    "import sys\n",
    "sys.path.append('../')\n",
    "\n",
    "import matplotlib.pyplot as plt\n",
    "from scipy.optimize import curve_fit\n",
    "import numpy as np\n",
    "from math import sqrt, fabs, log\n",
    "import pandas as pd\n",
    "import SimTools\n",
    "\n"
   ]
  },
  {
   "cell_type": "code",
   "execution_count": 2,
   "id": "fcfa5c35",
   "metadata": {},
   "outputs": [
    {
     "data": {
      "text/html": [
       "<div>\n",
       "<style scoped>\n",
       "    .dataframe tbody tr th:only-of-type {\n",
       "        vertical-align: middle;\n",
       "    }\n",
       "\n",
       "    .dataframe tbody tr th {\n",
       "        vertical-align: top;\n",
       "    }\n",
       "\n",
       "    .dataframe thead th {\n",
       "        text-align: right;\n",
       "    }\n",
       "</style>\n",
       "<table border=\"1\" class=\"dataframe\">\n",
       "  <thead>\n",
       "    <tr style=\"text-align: right;\">\n",
       "      <th></th>\n",
       "      <th>gas</th>\n",
       "      <th>energy</th>\n",
       "      <th>fit_length</th>\n",
       "      <th>ang_dist</th>\n",
       "      <th>sigma</th>\n",
       "      <th>sigma_err</th>\n",
       "    </tr>\n",
       "  </thead>\n",
       "  <tbody>\n",
       "    <tr>\n",
       "      <th>0</th>\n",
       "      <td>he_co2</td>\n",
       "      <td>50</td>\n",
       "      <td>0.5</td>\n",
       "      <td>[0.2836243488562742, -0.21217659801039965, -0....</td>\n",
       "      <td>12.824354</td>\n",
       "      <td>0.313253</td>\n",
       "    </tr>\n",
       "    <tr>\n",
       "      <th>1</th>\n",
       "      <td>he_co2</td>\n",
       "      <td>60</td>\n",
       "      <td>0.5</td>\n",
       "      <td>[0.2809333215154819, 0.4328480290493081, -0.19...</td>\n",
       "      <td>11.136665</td>\n",
       "      <td>0.282055</td>\n",
       "    </tr>\n",
       "    <tr>\n",
       "      <th>2</th>\n",
       "      <td>he_co2</td>\n",
       "      <td>70</td>\n",
       "      <td>0.5</td>\n",
       "      <td>[0.2825726495786364, 0.2781153110284793, 0.111...</td>\n",
       "      <td>9.226938</td>\n",
       "      <td>0.240446</td>\n",
       "    </tr>\n",
       "    <tr>\n",
       "      <th>3</th>\n",
       "      <td>he_co2</td>\n",
       "      <td>80</td>\n",
       "      <td>0.5</td>\n",
       "      <td>[0.21174185774191606, -0.03428777733440963, 0....</td>\n",
       "      <td>7.800637</td>\n",
       "      <td>0.196537</td>\n",
       "    </tr>\n",
       "    <tr>\n",
       "      <th>4</th>\n",
       "      <td>he_co2</td>\n",
       "      <td>90</td>\n",
       "      <td>0.5</td>\n",
       "      <td>[0.24439253390677027, -0.1292064201578335, -0....</td>\n",
       "      <td>7.571040</td>\n",
       "      <td>0.196594</td>\n",
       "    </tr>\n",
       "  </tbody>\n",
       "</table>\n",
       "</div>"
      ],
      "text/plain": [
       "      gas energy  fit_length  \\\n",
       "0  he_co2     50         0.5   \n",
       "1  he_co2     60         0.5   \n",
       "2  he_co2     70         0.5   \n",
       "3  he_co2     80         0.5   \n",
       "4  he_co2     90         0.5   \n",
       "\n",
       "                                            ang_dist      sigma  sigma_err  \n",
       "0  [0.2836243488562742, -0.21217659801039965, -0....  12.824354   0.313253  \n",
       "1  [0.2809333215154819, 0.4328480290493081, -0.19...  11.136665   0.282055  \n",
       "2  [0.2825726495786364, 0.2781153110284793, 0.111...   9.226938   0.240446  \n",
       "3  [0.21174185774191606, -0.03428777733440963, 0....   7.800637   0.196537  \n",
       "4  [0.24439253390677027, -0.1292064201578335, -0....   7.571040   0.196594  "
      ]
     },
     "execution_count": 2,
     "metadata": {},
     "output_type": "execute_result"
    }
   ],
   "source": [
    "# dataframe containg all data\n",
    "df = pd.read_pickle(\"./MS_testing_data.pk\")\n",
    "\n",
    "# dataframe for fitting data\n",
    "# here we impose sigma < 15 deg\n",
    "df_test = df.loc[df.sigma < 15.0].reset_index(drop=True)\n",
    "df_test.head()"
   ]
  },
  {
   "cell_type": "code",
   "execution_count": 3,
   "id": "c393df2a",
   "metadata": {},
   "outputs": [],
   "source": [
    "# Compute sigma predictions using Rossi fit\n",
    "df_test[\"R_fit\"] = df_test.apply(lambda row: SimTools.rossi_fit( (row.energy/1000.0,row.fit_length/100.0,SimTools.Rad_Lengths[row.gas]), SimTools.rossi_fit_params[\"S_2\"] ) ,axis = 1)\n",
    "\n",
    "# Compute sigma predictions using Highland fit\n",
    "df_test[\"H_fit\"] = df_test.apply(lambda row: SimTools.highland_fit( (row.energy/1000.0,row.fit_length/100.0,SimTools.Rad_Lengths[row.gas]), SimTools.highland_fit_params[\"S_2\"] ,  SimTools.highland_fit_params[\"Eps\"] ) ,axis = 1)\n"
   ]
  },
  {
   "cell_type": "code",
   "execution_count": 4,
   "id": "e4205d4b",
   "metadata": {},
   "outputs": [
    {
     "name": "stdout",
     "output_type": "stream",
     "text": [
      "Rossi fit standard deviation of the prediction errors:  0.15664169593244365\n",
      "Highland fit standard deviation of the prediction errors:  0.2849859543406829\n"
     ]
    }
   ],
   "source": [
    "# Compe the standard deviation of the prediction errors for both methods\n",
    "R_std = np.sum((df_test[\"R_fit\"]-df_test[\"sigma\"]).to_numpy()**2)/len(df_test)\n",
    "H_std = np.sum((df_test[\"H_fit\"]-df_test[\"sigma\"]).to_numpy()**2)/len(df_test)\n",
    "\n",
    "\n",
    "print(\"Rossi fit standard deviation of the prediction errors: \", R_std)\n",
    "print(\"Highland fit standard deviation of the prediction errors: \", H_std)"
   ]
  },
  {
   "cell_type": "code",
   "execution_count": 8,
   "id": "01b42548",
   "metadata": {},
   "outputs": [
    {
     "data": {
      "image/png": "[encoded data removed]",
      "text/plain": [
       "<Figure size 432x288 with 1 Axes>"
      ]
     },
     "metadata": {
      "needs_background": "light"
     },
     "output_type": "display_data"
    }
   ],
   "source": [
    "# Plot an example of the fits and original formulas\n",
    "select_gas = \"he_cf4\"\n",
    "fit_lenght = 0.5\n",
    "\n",
    "df_plot = df_test.loc[ (df_test.gas == select_gas) &  (df_test.fit_length == fit_lenght)]\n",
    "\n",
    "energy = df_plot[\"energy\"]/1000.0\n",
    "fit_len = fit_lenght/100.0\n",
    "rad_l = SimTools.Rad_Lengths[select_gas]\n",
    "\n",
    "plt.errorbar(energy, df_plot[\"sigma\"], yerr=df_plot[\"sigma_err\"], fmt='o',  label='Degrad Simulations')\n",
    "\n",
    "Es = np.arange(min(energy),max(energy), (max(energy)-min(energy))/100)\n",
    "\n",
    "fit2 = [ SimTools.rossi_fit( (E, fit_len, rad_l) , SimTools.rossi_fit_params[\"S_2\"] ) for E in Es]\n",
    "\n",
    "\n",
    "fit2_err_up = [ SimTools.rossi_fit( (E, fit_len, rad_l) , SimTools.rossi_fit_params[\"S_2\"] + SimTools.S2_std ) for E in Es] \n",
    "fit2_err_down = [ SimTools.rossi_fit( (E, fit_len, rad_l) , SimTools.rossi_fit_params[\"S_2\"] - SimTools.S2_std ) for E in Es] \n",
    "\n",
    "Eq3 = [ SimTools.highland_fit( (E, fit_len, rad_l) , 13.6, 0.038 ) for E in Es]\n",
    "\n",
    "plt.plot(Es, Eq3, 'g:', label='Lynch and Dahl (Eq. 3)')\n",
    "plt.plot(Es, fit2, 'r', label='Fit II')\n",
    "plt.plot(Es, fit2_err_up, 'r--')\n",
    "plt.plot(Es, fit2_err_down, 'r--')\n",
    "\n",
    "\n",
    "plt.legend(fontsize=14)\n",
    "plt.xlabel(\"Energy [MeV]\",fontsize=14)\n",
    "plt.ylabel(\"$\\\\sigma_{\\\\psi , MS}^{\\\\rm plane}$ [Deg]\",fontsize=14)\n",
    "plt.yticks(fontsize = 14)\n",
    "plt.xticks(fontsize = 14)\n",
    "plt.savefig(\"../figures/test_rossi.pdf\",bbox_inches='tight')\n",
    "\n",
    "\n",
    "\n"
   ]
  },
  {
   "cell_type": "code",
   "execution_count": null,
   "id": "d568f729",
   "metadata": {},
   "outputs": [],
   "source": []
  }
 ],
 "metadata": {
  "interpreter": {
   "hash": "e137a2665c242313c11d472736bb1efbdaf7608c607fce3fc4f47a32817024ba"
  },
  "kernelspec": {
   "display_name": "Python 3.7.3 64-bit ('my_root_env': conda)",
   "language": "python",
   "name": "python3"
  },
  "language_info": {
   "codemirror_mode": {
    "name": "ipython",
    "version": 3
   },
   "file_extension": ".py",
   "mimetype": "text/x-python",
   "name": "python",
   "nbconvert_exporter": "python",
   "pygments_lexer": "ipython3",
   "version": "3.7.3"
  }
 },
 "nbformat": 4,
 "nbformat_minor": 5
}
